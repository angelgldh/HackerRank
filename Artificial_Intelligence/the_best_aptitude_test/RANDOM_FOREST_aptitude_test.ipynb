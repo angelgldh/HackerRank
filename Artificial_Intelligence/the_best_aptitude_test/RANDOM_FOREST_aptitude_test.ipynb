{
 "cells": [
  {
   "cell_type": "code",
   "execution_count": 47,
   "metadata": {},
   "outputs": [],
   "source": [
    "import sys\n",
    "import pandas as pd\n",
    "from sklearn.ensemble import RandomForestRegressor\n",
    "import numpy as np"
   ]
  },
  {
   "cell_type": "code",
   "execution_count": 48,
   "metadata": {},
   "outputs": [
    {
     "name": "stdout",
     "output_type": "stream",
     "text": [
      "['1', '5', '7.5 7.7 7.9 8.1 8.3', '10 30 20 40 50', '11 9 5 19 29', '21 9 15 19 39', '91 9 75 19 89', '81 99 55 59 89']\n"
     ]
    }
   ],
   "source": [
    "# Hackerrank ####\n",
    "# data = sys.stdin.readlines()\n",
    "# data = [line.rstrip() for line in data]\n",
    "\n",
    "# 1.2 Equivalent in VSCode (to debug) ####\n",
    "file_name = \"aptitude_test.txt\"\n",
    "with open(file_name, 'r') as file:\n",
    "    data = file.read()\n",
    "data = data.split(\"\\n\")\n",
    "print(data) # ['2 100', '0.44 0.68 511.14', '0.99 0.23 717.1', '0.84 0.29 607.91']"
   ]
  },
  {
   "cell_type": "code",
   "execution_count": 49,
   "metadata": {},
   "outputs": [],
   "source": [
    "n_test_cases = int(data[0].strip())\n",
    "test_cases = {}\n",
    "start_point = 2\n",
    "\n",
    "for ii in range(n_test_cases):\n",
    "    # print(ii)\n",
    "    # n_students = int(data[1 + aux].strip())\n",
    "    # aux = 7\n",
    "    # print(n_students)\n",
    "\n",
    "    students_grades = []\n",
    "    for jj in range(6):\n",
    "        row = list(map(float, data[start_point + jj].split()))\n",
    "        students_grades.append(row)\n",
    "    start_point = start_point + 7\n",
    "    test_cases[ii] = students_grades\n",
    "\n"
   ]
  },
  {
   "cell_type": "code",
   "execution_count": 50,
   "metadata": {},
   "outputs": [
    {
     "name": "stderr",
     "output_type": "stream",
     "text": [
      "<ipython-input-50-2e561bacaa36>:11: DataConversionWarning: A column-vector y was passed when a 1d array was expected. Please change the shape of y to (n_samples,), for example using ravel().\n",
      "  rf.fit(predictors, GPA)\n"
     ]
    },
    {
     "name": "stdout",
     "output_type": "stream",
     "text": [
      "Feature importances:\n",
      "0: 0.2621092950614246\n",
      "1: 0.2315211428197607\n",
      "2: 0.19195854856169345\n",
      "3: 0.15082105076858413\n",
      "4: 0.16358996278853705\n"
     ]
    }
   ],
   "source": [
    "# Per test case, let's fit a random forest\n",
    "most_important_features = []\n",
    "\n",
    "for ii in range(n_test_cases):\n",
    "    target_case = test_cases[ii]\n",
    "    GPA = pd.DataFrame(target_case [0], columns=['GPA'])\n",
    "    colnames = ['feature_' + str(i) for i in range(1,5)] \n",
    "    predictors = pd.DataFrame(target_case[1:6]).transpose()\n",
    "\n",
    "    rf = RandomForestRegressor()\n",
    "    rf.fit(predictors, GPA)\n",
    "\n",
    "    importances = rf.feature_importances_\n",
    "    print(\"Feature importances:\")\n",
    "    for i, col in enumerate(predictors.columns):\n",
    "        print(f\"{col}: {importances[i]}\")\n",
    "\n",
    "    max_importance_idx = np.argmax(abs(importances))\n",
    "\n",
    "    highest_importance_feature = predictors.columns[max_importance_idx] + 1\n",
    "\n",
    "    most_important_features.append(highest_importance_feature)\n",
    "\n",
    "    "
   ]
  },
  {
   "cell_type": "code",
   "execution_count": 51,
   "metadata": {},
   "outputs": [
    {
     "name": "stdout",
     "output_type": "stream",
     "text": [
      "1\n"
     ]
    }
   ],
   "source": [
    "for m in most_important_features:\n",
    "    print(m)"
   ]
  },
  {
   "cell_type": "code",
   "execution_count": 32,
   "metadata": {},
   "outputs": [
    {
     "data": {
      "text/html": [
       "<div>\n",
       "<style scoped>\n",
       "    .dataframe tbody tr th:only-of-type {\n",
       "        vertical-align: middle;\n",
       "    }\n",
       "\n",
       "    .dataframe tbody tr th {\n",
       "        vertical-align: top;\n",
       "    }\n",
       "\n",
       "    .dataframe thead th {\n",
       "        text-align: right;\n",
       "    }\n",
       "</style>\n",
       "<table border=\"1\" class=\"dataframe\">\n",
       "  <thead>\n",
       "    <tr style=\"text-align: right;\">\n",
       "      <th></th>\n",
       "      <th>0</th>\n",
       "      <th>1</th>\n",
       "      <th>2</th>\n",
       "      <th>3</th>\n",
       "      <th>4</th>\n",
       "    </tr>\n",
       "  </thead>\n",
       "  <tbody>\n",
       "    <tr>\n",
       "      <th>0</th>\n",
       "      <td>10.0</td>\n",
       "      <td>11.0</td>\n",
       "      <td>21.0</td>\n",
       "      <td>91.0</td>\n",
       "      <td>81.0</td>\n",
       "    </tr>\n",
       "    <tr>\n",
       "      <th>1</th>\n",
       "      <td>30.0</td>\n",
       "      <td>9.0</td>\n",
       "      <td>9.0</td>\n",
       "      <td>75.0</td>\n",
       "      <td>99.0</td>\n",
       "    </tr>\n",
       "  </tbody>\n",
       "</table>\n",
       "</div>"
      ],
      "text/plain": [
       "      0     1     2     3     4\n",
       "0  10.0  11.0  21.0  91.0  81.0\n",
       "1  30.0   9.0   9.0  75.0  99.0"
      ]
     },
     "execution_count": 32,
     "metadata": {},
     "output_type": "execute_result"
    }
   ],
   "source": [
    "predictors"
   ]
  }
 ],
 "metadata": {
  "kernelspec": {
   "display_name": "base",
   "language": "python",
   "name": "python3"
  },
  "language_info": {
   "codemirror_mode": {
    "name": "ipython",
    "version": 3
   },
   "file_extension": ".py",
   "mimetype": "text/x-python",
   "name": "python",
   "nbconvert_exporter": "python",
   "pygments_lexer": "ipython3",
   "version": "3.8.5"
  },
  "orig_nbformat": 4,
  "vscode": {
   "interpreter": {
    "hash": "836a17164be2d590fd74263af58090dad9ab01a479d389a04c38658626e07a4a"
   }
  }
 },
 "nbformat": 4,
 "nbformat_minor": 2
}
