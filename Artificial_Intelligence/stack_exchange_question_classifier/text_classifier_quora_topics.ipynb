{
 "cells": [
  {
   "cell_type": "code",
   "execution_count": 17,
   "metadata": {},
   "outputs": [],
   "source": [
    "import json\n",
    "import codecs\n",
    "import numpy as np\n",
    "import pandas as pd\n",
    "\n",
    "from sklearn.feature_extraction.text import CountVectorizer\n",
    "from sklearn.naive_bayes import MultinomialNB\n",
    "from sklearn.metrics import accuracy_score\n",
    "from sklearn.feature_extraction.text import TfidfVectorizer\n",
    "from sklearn.svm import LinearSVC\n",
    "from sklearn.svm import SVC\n",
    "from sklearn.ensemble import RandomForestClassifier\n",
    "from sklearn.utils import resample\n",
    "\n",
    "from sklearn.metrics import classification_report\n",
    "from sklearn.model_selection import train_test_split\n",
    "from sklearn.metrics import confusion_matrix\n",
    "\n"
   ]
  },
  {
   "cell_type": "code",
   "execution_count": 6,
   "metadata": {},
   "outputs": [],
   "source": [
    "# 1.1. In HackerRank\n",
    "# data = sys.stdin.readlines()\n",
    "# data = [line.rstrip() for line in data]\n",
    "\n",
    "# 1.2. Here in VScode\n",
    "import codecs\n",
    "file_name = 'quora_topics.json'\n",
    "with codecs.open(file_name, 'r', encoding='iso-8859-1') as f:\n",
    "    data = f.read()\n",
    "# print(data)\n",
    "data = data.split(\"\\n\")\n",
    "# print(data) # Lists with every element being a string, as always\n",
    "\n",
    "# at this point, ouput in Hackerrank and in Visual Studio es the same GREAAT\n",
    "\n",
    "# 2. This part is to store our data in nice lists\n",
    "N = int(data[0].strip())\n",
    "topics = []\n",
    "questions = []\n",
    "excerpts = []\n",
    "rows = []\n",
    "for i in range(1,N+1):\n",
    "    item = json.loads(data[i])\n",
    "    \n",
    "    topics.append(item['topic'])\n",
    "    questions.append(item['question'])\n",
    "    excerpts.append(item['excerpt'])\n",
    "\n",
    "    row = [item['topic'], item['question'], item['excerpt']]\n",
    "    rows.append(row)\n",
    "colnames = [\"topic\", \"question\", \"excerpt\"]\n",
    "training_df = pd.DataFrame(rows, \n",
    "                           columns= colnames)\n",
    "\n",
    "#####\n",
    "# We need to make the same but for testing data\n",
    "N = int(data[0].strip())\n",
    "topics = []\n",
    "questions = []\n",
    "excerpts = []\n",
    "rows = []\n",
    "for i in range(1,N+1):\n",
    "    item = json.loads(data[i])\n",
    "    \n",
    "    topics.append(item['topic'])\n",
    "    questions.append(item['question'])\n",
    "    excerpts.append(item['excerpt'])\n",
    "\n",
    "    row = [item['topic'], item['question'], item['excerpt']]\n",
    "    rows.append(row)\n",
    "\n",
    "colnames = [\"topic\", \"question\", \"excerpt\"]\n",
    "testing_df = pd.DataFrame(rows, \n",
    "                           columns= colnames)"
   ]
  },
  {
   "cell_type": "code",
   "execution_count": 9,
   "metadata": {},
   "outputs": [],
   "source": [
    "# Store data in nice panda data frames\n",
    "colnames = [\"topic\", \"question\", \"excerpt\"]\n",
    "# training_df = pd.DataFrame([questions, excerpts, topics], \n",
    "#                            columns= colnames)\n",
    "training_df = pd.DataFrame(rows, \n",
    "                           columns= colnames)"
   ]
  },
  {
   "cell_type": "code",
   "execution_count": 14,
   "metadata": {},
   "outputs": [],
   "source": [
    "def dataset_inspection(df):\n",
    "        # Missingness\n",
    "        missing_values = df.isnull().sum()\n",
    "        print('Missing values: ', missing_values)\n",
    "\n",
    "        # Duplicated rows\n",
    "        print('Number of duplicated rows: ', df.duplicated().sum())\n",
    "        print('Percentage of duplicated rows: ', (df.duplicated().sum() / df.apply(len)))\n",
    "\n",
    "        # Count and percentage per label\n",
    "        label_counts = df['topic'].value_counts()\n",
    "        label_percentages = df['topic'].value_counts(normalize=True) * 100\n",
    "        print('Label counts:')\n",
    "        print(label_counts)\n",
    "        print('Label percentages:')\n",
    "        print(label_percentages)\n",
    "\n",
    "        # Evaluate distribution of predictors\n",
    "        predictors = \"question\"\n",
    "        df['document_length'] = df[predictors].apply(len)\n",
    "        print('Minimum document length:', df['document_length'].min())\n",
    "        print('Maximum document length:', df['document_length'].max())\n",
    "        print('Average document length:', df['document_length'].mean())\n",
    "        print('Median document length:', df['document_length'].median())\n",
    "        print('q1 document length:', df['document_length'].quantile(0.25))\n",
    "        print('q3 document length:', df['document_length'].quantile(0.75))"
   ]
  },
  {
   "cell_type": "code",
   "execution_count": 15,
   "metadata": {},
   "outputs": [
    {
     "name": "stdout",
     "output_type": "stream",
     "text": [
      "Missing values:  topic              0\n",
      "question           0\n",
      "excerpt            0\n",
      "question_length    0\n",
      "dtype: int64\n",
      "Number of duplicated rows:  5\n",
      "Percentage of duplicated rows:  topic              0.000247\n",
      "question           0.000247\n",
      "excerpt            0.000247\n",
      "question_length    0.000247\n",
      "dtype: float64\n",
      "Label counts:\n",
      "gis            2383\n",
      "scifi          2333\n",
      "android        2239\n",
      "electronics    2079\n",
      "apple          2064\n",
      "unix           1965\n",
      "photo          1945\n",
      "wordpress      1943\n",
      "security       1899\n",
      "mathematica    1369\n",
      "Name: topic, dtype: int64\n",
      "Label percentages:\n",
      "gis            11.785944\n",
      "scifi          11.538652\n",
      "android        11.073743\n",
      "electronics    10.282408\n",
      "apple          10.208220\n",
      "unix            9.718582\n",
      "photo           9.619665\n",
      "wordpress       9.609773\n",
      "security        9.392156\n",
      "mathematica     6.770859\n",
      "Name: topic, dtype: float64\n",
      "Minimum document length: 15\n",
      "Maximum document length: 157\n",
      "Average document length: 54.134032345813345\n",
      "Median document length: 51.0\n",
      "q1 document length: 39.0\n",
      "q3 document length: 66.0\n"
     ]
    }
   ],
   "source": [
    "dataset_inspection(training_df)\n",
    "# Data seems balanced"
   ]
  },
  {
   "cell_type": "code",
   "execution_count": 39,
   "metadata": {},
   "outputs": [
    {
     "name": "stdout",
     "output_type": "stream",
     "text": [
      "              precision    recall  f1-score   support\n",
      "\n",
      "     android     0.8799    0.8966    0.8882       899\n",
      "       apple     0.8634    0.7815    0.8204       801\n",
      " electronics     0.8530    0.8020    0.8267       803\n",
      "         gis     0.8944    0.8781    0.8862       993\n",
      " mathematica     0.7748    0.7818    0.7783       550\n",
      "       photo     0.9004    0.9206    0.9104       756\n",
      "       scifi     0.7855    0.9310    0.8521       956\n",
      "    security     0.8552    0.6588    0.7443       762\n",
      "        unix     0.7594    0.7668    0.7631       819\n",
      "   wordpress     0.8385    0.9426    0.8875       749\n",
      "\n",
      "    accuracy                         0.8408      8088\n",
      "   macro avg     0.8404    0.8360    0.8357      8088\n",
      "weighted avg     0.8426    0.8408    0.8392      8088\n",
      "\n",
      "[[806  23  14   2   9   6  15   7  10   7]\n",
      " [ 30 626   3   3   7  14  21  23  53  21]\n",
      " [ 18   6 644  14  29   8  53   5  14  12]\n",
      " [  7   5  14 872  17   5  22   6  30  15]\n",
      " [  0   4   9  33 430   7  36   2  17  12]\n",
      " [  4   8  10   8   2 696  19   1   3   5]\n",
      " [  8   0  15   2  11  23 890   2   2   3]\n",
      " [ 21  32  24  15  17   5  40 502  68  38]\n",
      " [ 21  21  20  20  18   4  30  34 628  23]\n",
      " [  1   0   2   6  15   5   7   5   2 706]]\n"
     ]
    }
   ],
   "source": [
    "# 2 Build-up of the text classifier ##### \n",
    "\n",
    "# vectorizer = CountVectorizer()\n",
    "vectorizer = TfidfVectorizer(lowercase=True, stop_words='english')\n",
    "\n",
    "# classifier = MultinomialNB()\n",
    "# classifier = LinearSVC(class_weight='balanced')\n",
    "classifier = RandomForestClassifier(random_state=123)\n",
    "\n",
    "\n",
    "# Split in test and training data \n",
    "X = vectorizer.fit_transform(training_df['question'] + ' ' + training_df['excerpt'])\n",
    "y = training_df['topic']\n",
    "\n",
    "X_train, X_test, y_train, y_test = train_test_split(X, y, test_size=0.4, random_state=42)\n",
    "\n",
    "# # Train the model in training data\n",
    "classifier.fit(X_train, y_train)\n",
    "\n",
    "# # Test in testing data AND obtaining classification_report\n",
    "y_pred = classifier.predict(X_test)\n",
    "report = classification_report(y_test, y_pred, digits=4)\n",
    "print(report)\n",
    "\n",
    "cm = confusion_matrix(y_test, y_pred)\n",
    "print(cm)"
   ]
  },
  {
   "cell_type": "code",
   "execution_count": 36,
   "metadata": {},
   "outputs": [
    {
     "data": {
      "text/plain": [
       "<2x2 sparse matrix of type '<class 'numpy.float64'>'\n",
       "\twith 2 stored elements in Compressed Sparse Row format>"
      ]
     },
     "execution_count": 36,
     "metadata": {},
     "output_type": "execute_result"
    }
   ],
   "source": [
    "X_eval = vectorizer.transform(testing_df['question'] + ' ' + testing_df['excerpt'])\n",
    "y_eval = classifier.predict(X_eval)\n",
    "\n",
    "for y in y_eval:\n",
    "    print(y)"
   ]
  }
 ],
 "metadata": {
  "kernelspec": {
   "display_name": "base",
   "language": "python",
   "name": "python3"
  },
  "language_info": {
   "codemirror_mode": {
    "name": "ipython",
    "version": 3
   },
   "file_extension": ".py",
   "mimetype": "text/x-python",
   "name": "python",
   "nbconvert_exporter": "python",
   "pygments_lexer": "ipython3",
   "version": "3.8.5"
  },
  "orig_nbformat": 4,
  "vscode": {
   "interpreter": {
    "hash": "836a17164be2d590fd74263af58090dad9ab01a479d389a04c38658626e07a4a"
   }
  }
 },
 "nbformat": 4,
 "nbformat_minor": 2
}
