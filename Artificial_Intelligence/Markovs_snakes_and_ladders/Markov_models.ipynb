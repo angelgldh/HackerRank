{
 "cells": [
  {
   "cell_type": "code",
   "execution_count": 2,
   "metadata": {},
   "outputs": [],
   "source": [
    "import sys\n",
    "\n",
    "import random"
   ]
  },
  {
   "cell_type": "code",
   "execution_count": 3,
   "metadata": {},
   "outputs": [
    {
     "name": "stdout",
     "output_type": "stream",
     "text": [
      "['3', '0.32,0.32,0.12,0.04,0.07,0.13', '3,7', '32,62 42,68 12,98', '95,13 97,25 93,37 79,27 75,19 49,47 67,17', '0.39,0.05,0.14,0.05,0.12,0.25', '5,8', '32,62 44,66 22,58 34,60 2,90', '85,7 63,31 87,13 75,11 89,33 57,5 71,15 55,25', '0.54,0.02,0.02,0.01,0.3,0.11', '4,9', '8,52 6,80 26,42 2,72', '51,19 39,11 37,29 81,3 59,5 79,23 53,7 43,33 77,21']\n"
     ]
    }
   ],
   "source": [
    "# Let's start by properly reading the data\n",
    "\n",
    "# at hackerrank: \n",
    "# data = sys.stdin.readlines()\n",
    "# data = [line.rstrip() for line in data]\n",
    "\n",
    "# at VScode:\n",
    "file_name = \"board_configurations.txt\"\n",
    "with open(file_name, 'r') as file:\n",
    "    data = file.read()\n",
    "\n",
    "data = data.split(\"\\n\")\n",
    "print(data) "
   ]
  },
  {
   "cell_type": "code",
   "execution_count": 4,
   "metadata": {},
   "outputs": [],
   "source": [
    "# 1. Store all the configurations in a dictionary #####\n",
    "n_configurations = int(data[0])\n",
    "n_configurations\n",
    "\n",
    "tests = []\n",
    "i = 1\n",
    "for t in range(n_configurations):\n",
    "    probabilities = list(map(float, data[i].split(',')))\n",
    "    num_ladders, num_snakes = map(int, data[i+1].split(','))\n",
    "    ladders = [tuple(map(int, x.split(','))) for x in data[i+2].split()]\n",
    "    snakes = [tuple(map(int, x.split(','))) for x in data[i+3].split()]\n",
    "    test = {\"probabilities\": probabilities, \"num_ladders\": num_ladders, \"ladders\": ladders, \"num_snakes\": num_snakes, \"snakes\": snakes}\n",
    "    tests.append(test)\n",
    "    i += 4"
   ]
  },
  {
   "cell_type": "code",
   "execution_count": 5,
   "metadata": {},
   "outputs": [],
   "source": [
    "# Simulation of one game:\n",
    "\n",
    "def simulate_game(probabilities, snakes, ladders):\n",
    "    current_square = 1\n",
    "    rolls = 0\n",
    "    \n",
    "    initial_snake = [x[0] for x in snakes]\n",
    "    final_snake = [x[1] for x in snakes]\n",
    "\n",
    "    initial_ladder = [x[0] for x in ladders]\n",
    "    final_ladder = [x[1] for x in ladders]\n",
    "    \n",
    "    while current_square < 100:\n",
    "        roll = random.choices(range(1, 7), weights=probabilities)[0]\n",
    "        \n",
    "        next_square = current_square + roll\n",
    "        if next_square <= 100:\n",
    "            current_square = next_square\n",
    "            if current_square in initial_ladder:\n",
    "                current_square = final_ladder[initial_ladder.index(current_square)]\n",
    "            elif current_square in initial_snake:\n",
    "                current_square = final_snake[initial_snake.index(current_square)]\n",
    "        elif next_square > 100:\n",
    "            next_square = current_square\n",
    "\n",
    "        rolls += 1\n",
    "    \n",
    "    return rolls"
   ]
  },
  {
   "cell_type": "code",
   "execution_count": 6,
   "metadata": {},
   "outputs": [],
   "source": [
    "# Calculate all the needed rolls for all the configurations, \n",
    "# def calculate_expected_rolls(configurations, num_games):\n",
    "#     results = []\n",
    "    \n",
    "#     for i in range(len(configurations)):\n",
    "#         probabilities = configurations[i][\"probabilities\"]\n",
    "#         snakes = dict(configurations[i][\"snakes\"])\n",
    "#         ladders = dict(configurations[i][\"ladders\"])\n",
    "#         rolls = [simulate_game(probabilities, snakes, ladders) for _ in range(num_games)]\n",
    "#         expected_rolls = sum(rolls) / len(rolls)\n",
    "#         results.append(expected_rolls)\n",
    "    \n",
    "#     return results"
   ]
  },
  {
   "cell_type": "code",
   "execution_count": 85,
   "metadata": {},
   "outputs": [],
   "source": [
    "# Calculate all the needed rolls for all the configurations, \n",
    "# def calculate_expected_rolls(num_games):\n",
    "#     results = []\n",
    "    \n",
    "#     rolls = [simulate_game(probabilities, snakes, ladders) for _ in range(num_games)]\n",
    "#     expected_rolls = sum(rolls) / len(rolls)\n",
    "#     results.append(expected_rolls)\n",
    "    \n",
    "#     return results\n"
   ]
  },
  {
   "cell_type": "code",
   "execution_count": 7,
   "metadata": {},
   "outputs": [
    {
     "name": "stdout",
     "output_type": "stream",
     "text": [
      "172\n",
      "94\n",
      "171\n"
     ]
    }
   ],
   "source": [
    "num_games = 5000\n",
    "results = []\n",
    "\n",
    "for ii in range(len(tests)):\n",
    "    probs = tests[ii][\"probabilities\"]\n",
    "    ladders = tests[ii][\"ladders\"]\n",
    "    snakes = tests[ii][\"snakes\"]\n",
    "    # print(probs)\n",
    "    # print(ladders)\n",
    "    # print(snakes)\n",
    "\n",
    "    rolls = [simulate_game(probs, snakes, ladders) for _ in range(num_games)]\n",
    "    expected_rolls = sum(rolls) / len(rolls)\n",
    "    # print(sum(rolls))\n",
    "    # print(len(rolls))\n",
    "    results.append(expected_rolls)\n",
    "\n",
    "\n",
    "for result in results:\n",
    "    print(int(round(result,0)))"
   ]
  },
  {
   "cell_type": "code",
   "execution_count": 8,
   "metadata": {},
   "outputs": [],
   "source": [
    "# Let's do it in function form\n",
    "\n",
    "def play_n_simulations(configurations_dict, num_games):\n",
    "    results = []\n",
    "    tests = configurations_dict\n",
    "\n",
    "    for ii in range(len(tests)):\n",
    "        probs = tests[ii][\"probabilities\"]\n",
    "        ladders = tests[ii][\"ladders\"]\n",
    "        snakes = tests[ii][\"snakes\"]\n",
    "\n",
    "        rolls = [simulate_game(probs, snakes, ladders) for _ in range(num_games)]\n",
    "        expected_rolls = sum(rolls) / num_games\n",
    "\n",
    "        results.append(expected_rolls)\n",
    "        \n",
    "    return results\n"
   ]
  },
  {
   "cell_type": "code",
   "execution_count": 9,
   "metadata": {},
   "outputs": [
    {
     "name": "stdout",
     "output_type": "stream",
     "text": [
      "178\n",
      "96\n",
      "168\n"
     ]
    }
   ],
   "source": [
    "num_games = 5000\n",
    "results = play_n_simulations(tests, num_games)\n",
    "\n",
    "for result in results:\n",
    "    print(int(round(result,0)))"
   ]
  }
 ],
 "metadata": {
  "kernelspec": {
   "display_name": "base",
   "language": "python",
   "name": "python3"
  },
  "language_info": {
   "codemirror_mode": {
    "name": "ipython",
    "version": 3
   },
   "file_extension": ".py",
   "mimetype": "text/x-python",
   "name": "python",
   "nbconvert_exporter": "python",
   "pygments_lexer": "ipython3",
   "version": "3.8.5"
  },
  "orig_nbformat": 4,
  "vscode": {
   "interpreter": {
    "hash": "836a17164be2d590fd74263af58090dad9ab01a479d389a04c38658626e07a4a"
   }
  }
 },
 "nbformat": 4,
 "nbformat_minor": 2
}
