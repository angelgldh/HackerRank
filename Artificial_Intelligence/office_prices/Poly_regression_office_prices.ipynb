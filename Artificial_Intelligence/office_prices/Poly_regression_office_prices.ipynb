{
 "cells": [
  {
   "cell_type": "code",
   "execution_count": 8,
   "metadata": {},
   "outputs": [],
   "source": [
    "import os\n",
    "os.chdir(\"C:/Users/angel/Google Drive/09. Programming & Data Science/02. Python/03_vscode\")\n",
    "os.getcwd()\n",
    "\n",
    "import pandas as pd\n",
    "import numpy as np"
   ]
  },
  {
   "cell_type": "code",
   "execution_count": 15,
   "metadata": {},
   "outputs": [
    {
     "name": "stdout",
     "output_type": "stream",
     "text": [
      "['2 100', '0.44 0.68 511.14', '0.99 0.23 717.1', '0.84 0.29 607.91', '0.28 0.45 270.4', '0.07 0.83 289.88', '0.66 0.8 830.85', '0.73 0.92 1038.09', '0.57 0.43 455.19', '0.43 0.89 640.17', '0.27 0.95 511.06', '0.43 0.06 177.03', '0.87 0.91 1242.52', '0.78 0.69 891.37', '0.9 0.94 1339.72', '0.41 0.06 169.88', '0.52 0.17 276.05', '0.47 0.66 517.43', '0.65 0.43 522.25', '0.85 0.64 932.21', '0.93 0.44 851.25', '0.41 0.93 640.11', '0.36 0.43 308.68', '0.78 0.85 1046.05', '0.69 0.07 332.4', '0.04 0.52 171.85', '0.17 0.15 109.55', '0.68 0.13 361.97', '0.84 0.6 872.21', '0.38 0.4 303.7', '0.12 0.65 256.38', '0.62 0.17 341.2', '0.79 0.97 1194.63', '0.82 0.04 408.6', '0.91 0.53 895.54', '0.35 0.85 518.25', '0.57 0.69 638.75', '0.52 0.22 301.9', '0.31 0.15 163.38', '0.6 0.02 240.77', '0.99 0.91 1449.05', '0.48 0.76 609.0', '0.3 0.19 174.59', '0.58 0.62 593.45', '0.65 0.17 355.96', '0.6 0.69 671.46', '0.95 0.76 1193.7', '0.47 0.23 278.88', '0.15 0.96 411.4', '0.01 0.03 42.08', '0.26 0.23 166.19', '0.01 0.11 58.62', '0.45 0.87 642.45', '0.09 0.97 368.14', '0.96 0.25 702.78', '0.63 0.58 615.74', '0.06 0.42 143.79', '0.1 0.24 109.0', '0.26 0.62 328.28', '0.41 0.15 205.16', '0.91 0.95 1360.49', '0.83 0.64 905.83', '0.44 0.64 487.33', '0.2 0.4 202.76', '0.43 0.12 202.01', '0.21 0.22 148.87', '0.88 0.4 745.3', '0.31 0.87 503.04', '0.99 0.99 1563.82', '0.23 0.26 165.21', '0.79 0.12 438.4', '0.02 0.28 98.47', '0.89 0.48 819.63', '0.02 0.56 174.44', '0.92 0.03 483.13', '0.72 0.34 534.24', '0.3 0.99 572.31', '0.86 0.66 957.61', '0.47 0.65 518.29', '0.79 0.94 1143.49', '0.82 0.96 1211.31', '0.9 0.42 784.74', '0.19 0.62 283.7', '0.7 0.57 684.38', '0.7 0.61 719.46', '0.69 0.0 292.23', '0.98 0.3 775.68', '0.3 0.08 130.77', '0.85 0.49 801.6', '0.73 0.01 323.55', '1.0 0.23 726.9', '0.42 0.94 661.12', '0.49 0.98 771.11', '0.89 0.68 1016.14', '0.22 0.46 237.69', '0.34 0.5 325.89', '0.99 0.13 636.22', '0.28 0.46 272.12', '0.87 0.36 696.65', '0.23 0.87 434.53', '0.77 0.36 593.86', '4', '0.05 0.54', '0.91 0.91', '0.31 0.76', '0.51 0.31']\n"
     ]
    }
   ],
   "source": [
    "# input will be something like this:\n",
    "file_name = \"house_prices.txt\"\n",
    "\n",
    "with open(file_name, 'r') as file:\n",
    "    data = file.read()\n",
    "# data is how our input will look like\n",
    "\n",
    "# This line we will use in HackerRank\n",
    "# data = input()\n",
    "# print(data)\n",
    "# data = [line.rstrip() for line in data]\n",
    "# print(data)\n",
    "x = data.split(\"\\n\")\n",
    "print(x)"
   ]
  },
  {
   "cell_type": "code",
   "execution_count": 3,
   "metadata": {},
   "outputs": [],
   "source": [
    "# 1st: extract n_features and n_data_points\n",
    "x = data.split(\"\\n\")\n",
    "n_features = int(x[0].split(\" \")[0])\n",
    "n_points = int(x[0].split(\" \")[1])\n",
    "\n",
    "F = n_features\n",
    "N = n_points\n",
    "\n",
    "# 2nd: extract training data\n",
    "training_data = []\n",
    "for i in range(1,N+1):\n",
    "    row = list(map(float, x[i].split()))\n",
    "    # print(row)\n",
    "    training_data.append(row)\n",
    "\n",
    "# 3rd: extract testing data\n",
    "T = int(x[N+1])\n",
    "testing_data = []\n",
    "for i in range(N+2, N+1+T+1):\n",
    "    row = list(map(float, x[i].split()))\n",
    "    testing_data.append(row)\n"
   ]
  },
  {
   "cell_type": "code",
   "execution_count": 4,
   "metadata": {},
   "outputs": [],
   "source": [
    "table_cols = ['feature_' + str(i) for i in range(F)] + ['target']\n",
    "training_df = pd.DataFrame(training_data, columns=table_cols)\n",
    "\n",
    "colnames_test = ['feature_' + str(i) for i in range(F)]\n",
    "testing_df = pd.DataFrame(testing_data, columns=colnames_test)\n",
    "\n",
    "X_train = training_df[colnames_test]\n",
    "y_train = training_df['target']\n",
    "\n",
    "X_test = testing_df"
   ]
  },
  {
   "cell_type": "code",
   "execution_count": 5,
   "metadata": {},
   "outputs": [
    {
     "data": {
      "text/plain": [
       "LinearRegression()"
      ]
     },
     "execution_count": 5,
     "metadata": {},
     "output_type": "execute_result"
    }
   ],
   "source": [
    "# Train the data\n",
    "\n",
    "from sklearn.preprocessing import PolynomialFeatures\n",
    "from sklearn.linear_model import LinearRegression\n",
    "\n",
    "poly = PolynomialFeatures(degree=3)\n",
    "X_poly = poly.fit_transform(X_train)\n",
    "\n",
    "# Fit a linear regression model on the transformed features\n",
    "model = LinearRegression()\n",
    "model.fit(X_poly, y_train)"
   ]
  },
  {
   "cell_type": "code",
   "execution_count": 11,
   "metadata": {},
   "outputs": [
    {
     "name": "stdout",
     "output_type": "stream",
     "text": [
      "180.38\n",
      "1312.07\n",
      "440.13\n",
      "343.72\n"
     ]
    }
   ],
   "source": [
    "# Now, test it\n",
    "X_test_poly = poly.fit_transform(X_test)\n",
    "y_eval = np.round(model.predict(X_test_poly),2)\n",
    "\n",
    "for y in y_eval:\n",
    "    print(y)\n"
   ]
  }
 ],
 "metadata": {
  "kernelspec": {
   "display_name": "base",
   "language": "python",
   "name": "python3"
  },
  "language_info": {
   "codemirror_mode": {
    "name": "ipython",
    "version": 3
   },
   "file_extension": ".py",
   "mimetype": "text/x-python",
   "name": "python",
   "nbconvert_exporter": "python",
   "pygments_lexer": "ipython3",
   "version": "3.8.5"
  },
  "orig_nbformat": 4,
  "vscode": {
   "interpreter": {
    "hash": "836a17164be2d590fd74263af58090dad9ab01a479d389a04c38658626e07a4a"
   }
  }
 },
 "nbformat": 4,
 "nbformat_minor": 2
}
