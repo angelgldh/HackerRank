{
 "cells": [
  {
   "cell_type": "code",
   "execution_count": 1,
   "metadata": {},
   "outputs": [],
   "source": [
    "import os"
   ]
  },
  {
   "cell_type": "code",
   "execution_count": 2,
   "metadata": {},
   "outputs": [
    {
     "data": {
      "text/plain": [
       "'C:\\\\Users\\\\angel\\\\Google Drive\\\\09. Programming & Data Science\\\\02. Python\\\\03_vscode'"
      ]
     },
     "execution_count": 2,
     "metadata": {},
     "output_type": "execute_result"
    }
   ],
   "source": [
    "os.chdir(\"C:/Users/angel/Google Drive/09. Programming & Data Science/02. Python/03_vscode\")\n",
    "os.getcwd()"
   ]
  },
  {
   "cell_type": "code",
   "execution_count": 73,
   "metadata": {},
   "outputs": [],
   "source": [
    "stidin = \"battery_life.txt\"\n",
    "charging_hours = []\n",
    "battery_life = []\n",
    "with open(stidin) as file:\n",
    "     for line in file:\n",
    "        #  print(line)\n",
    "        # good practice: clean any extra character after the target line\n",
    "         line = line.strip()\n",
    "         line_split = line.split(',')\n",
    "         charging_hours.append(float(line_split[0]))\n",
    "         battery_life.append(float(line_split[1]))\n"
   ]
  },
  {
   "cell_type": "code",
   "execution_count": 74,
   "metadata": {},
   "outputs": [
    {
     "data": {
      "text/plain": [
       "Text(0.5, 1.0, 'Battery life vs charging hours')"
      ]
     },
     "execution_count": 74,
     "metadata": {},
     "output_type": "execute_result"
    },
    {
     "data": {
      "image/png": "[encoded data removed]",
      "text/plain": [
       "<Figure size 432x288 with 1 Axes>"
      ]
     },
     "metadata": {
      "needs_background": "light"
     },
     "output_type": "display_data"
    }
   ],
   "source": [
    "import matplotlib.pyplot as plt\n",
    "# charging_hours.sort()\n",
    "# battery_life.sort()\n",
    "# plot x vs y\n",
    "plt.plot(charging_hours, battery_life, 'o')\n",
    "plt.xlabel(\"Charging time (hours)\")\n",
    "plt.ylabel(\"Battery life (hours)\")\n",
    "plt.title(\"Battery life vs charging hours\")"
   ]
  },
  {
   "attachments": {},
   "cell_type": "markdown",
   "metadata": {},
   "source": [
    "There is a clear trend: until a threshold (located around x = 4), the battery life follows a linear trend with charging time. After that threshold, the battery life is \"saturated\" and reaches a plateau.\n",
    "\n",
    "Therefore, I propose a spline-wise linear regression. Key point: identify the point x @ which our plateau is reached.\n",
    "\n",
    "As this point is challenging, it is advisable to fit the regression model using spline OLS, to identify the two different regions."
   ]
  },
  {
   "cell_type": "code",
   "execution_count": 62,
   "metadata": {},
   "outputs": [
    {
     "data": {
      "text/plain": [
       "100"
      ]
     },
     "execution_count": 62,
     "metadata": {},
     "output_type": "execute_result"
    }
   ],
   "source": [
    "len(battery_life)"
   ]
  },
  {
   "cell_type": "code",
   "execution_count": 96,
   "metadata": {},
   "outputs": [],
   "source": [
    "import scipy.interpolate as interp\n",
    "import numpy as np\n",
    "# interp.splrep needs of sorted arrays, so we will sort both x and y\n",
    "# to keep the same 121 correspondence between arrays, they are zipped first\n",
    "charging_hours = np.array(charging_hours)\n",
    "battery_life = np.array(battery_life)\n",
    "\n",
    "sorted_indices = np.argsort()\n",
    "charging_hours = charging_hours[sorted_indices]\n",
    "battery_life = battery_life[sorted_indices]\n",
    "\n",
    "spline_OLS = interp.UnivariateSpline(charging_hours, battery_life, k = 1, s = 0.01)"
   ]
  },
  {
   "cell_type": "code",
   "execution_count": 98,
   "metadata": {},
   "outputs": [
    {
     "data": {
      "text/plain": [
       "7.93"
      ]
     },
     "execution_count": 98,
     "metadata": {},
     "output_type": "execute_result"
    }
   ],
   "source": [
    "# Now, let's evaluate our model:\n",
    "def predict_life_battery(new_charging_hour):\n",
    "    return spline_OLS(new_charging_hour)\n",
    "\n",
    "x_eval = np.linspace(min(charging_hours), max(charging_hours), 1000)\n",
    "y_eval = [predict_life_battery(x) for x in x_eval]\n",
    "\n",
    "x_eval = 4\n",
    "np.round(predict_life_battery(x_eval),2)"
   ]
  },
  {
   "cell_type": "code",
   "execution_count": 91,
   "metadata": {},
   "outputs": [
    {
     "data": {
      "text/plain": [
       "[<matplotlib.lines.Line2D at 0xf93c820>]"
      ]
     },
     "execution_count": 91,
     "metadata": {},
     "output_type": "execute_result"
    },
    {
     "data": {
      "image/png": "[encoded data removed]",
      "text/plain": [
       "<Figure size 432x288 with 1 Axes>"
      ]
     },
     "metadata": {
      "needs_background": "light"
     },
     "output_type": "display_data"
    }
   ],
   "source": [
    "plt.plot(x_eval, y_eval)"
   ]
  }
 ],
 "metadata": {
  "kernelspec": {
   "display_name": "base",
   "language": "python",
   "name": "python3"
  },
  "language_info": {
   "codemirror_mode": {
    "name": "ipython",
    "version": 3
   },
   "file_extension": ".py",
   "mimetype": "text/x-python",
   "name": "python",
   "nbconvert_exporter": "python",
   "pygments_lexer": "ipython3",
   "version": "3.8.5"
  },
  "orig_nbformat": 4,
  "vscode": {
   "interpreter": {
    "hash": "836a17164be2d590fd74263af58090dad9ab01a479d389a04c38658626e07a4a"
   }
  }
 },
 "nbformat": 4,
 "nbformat_minor": 2
}
